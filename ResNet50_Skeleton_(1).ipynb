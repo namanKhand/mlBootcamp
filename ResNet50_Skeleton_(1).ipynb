{
  "nbformat": 4,
  "nbformat_minor": 0,
  "metadata": {
    "colab": {
      "provenance": [],
      "toc_visible": true,
      "include_colab_link": true
    },
    "kernelspec": {
      "name": "python3",
      "display_name": "Python 3"
    },
    "language_info": {
      "name": "python"
    }
  },
  "cells": [
    {
      "cell_type": "markdown",
      "metadata": {
        "id": "view-in-github",
        "colab_type": "text"
      },
      "source": [
        "<a href=\"https://colab.research.google.com/github/namanKhand/mlBootcamp/blob/main/ResNet50_Skeleton_(1).ipynb\" target=\"_parent\"><img src=\"https://colab.research.google.com/assets/colab-badge.svg\" alt=\"Open In Colab\"/></a>"
      ]
    },
    {
      "cell_type": "markdown",
      "source": [
        "## Loading data"
      ],
      "metadata": {
        "id": "0D85rnQ1V6jW"
      }
    },
    {
      "cell_type": "code",
      "execution_count": 24,
      "metadata": {
        "id": "uc2GYRZzKyzh",
        "outputId": "d19e9836-c178-4690-827e-b6a05b405eec",
        "colab": {
          "base_uri": "https://localhost:8080/"
        }
      },
      "outputs": [
        {
          "output_type": "stream",
          "name": "stdout",
          "text": [
            "--2024-11-08 05:46:15--  https://storage.googleapis.com/mledu-datasets/cats_and_dogs_filtered.zip\n",
            "Resolving storage.googleapis.com (storage.googleapis.com)... 74.125.126.207, 74.125.132.207, 74.125.201.207, ...\n",
            "Connecting to storage.googleapis.com (storage.googleapis.com)|74.125.126.207|:443... connected.\n",
            "HTTP request sent, awaiting response... 200 OK\n",
            "Length: 68606236 (65M) [application/zip]\n",
            "Saving to: ‘/tmp/cats_and_dogs_filtered.zip’\n",
            "\n",
            "/tmp/cats_and_dogs_ 100%[===================>]  65.43M   219MB/s    in 0.3s    \n",
            "\n",
            "2024-11-08 05:46:16 (219 MB/s) - ‘/tmp/cats_and_dogs_filtered.zip’ saved [68606236/68606236]\n",
            "\n"
          ]
        }
      ],
      "source": [
        "!wget --no-check-certificate \\\n",
        "    https://storage.googleapis.com/mledu-datasets/cats_and_dogs_filtered.zip \\\n",
        "    -O /tmp/cats_and_dogs_filtered.zip\n",
        "\n",
        "import os\n",
        "import zipfile\n",
        "import os\n",
        "import zipfile\n",
        "import tensorflow as tf\n",
        "from tensorflow.keras.models import Sequential\n",
        "from tensorflow.keras.layers import Dense, Flatten, GlobalAveragePooling2D\n",
        "from tensorflow.keras.applications import ResNet50\n",
        "\n",
        "local_zip = '/tmp/cats_and_dogs_filtered.zip'\n",
        "zip_ref = zipfile.ZipFile(local_zip, 'r')\n",
        "zip_ref.extractall('/tmp')\n",
        "zip_ref.close()\n",
        "\n",
        "base_dir = '/tmp/cats_and_dogs_filtered'\n",
        "train_dir = os.path.join(base_dir, 'train')\n",
        "validation_dir = os.path.join(base_dir, 'validation')"
      ]
    },
    {
      "cell_type": "markdown",
      "source": [
        "## Reading the Data into arrays"
      ],
      "metadata": {
        "id": "xgEKdtTjV8Sx"
      }
    },
    {
      "cell_type": "code",
      "source": [
        "from PIL import Image\n",
        "import numpy as np\n",
        "\n",
        "\n",
        "cats_dir = os.path.join(train_dir + \"/cats\")\n",
        "dogs_dir = os.path.join(train_dir + \"/dogs\")\n",
        "i = 0\n",
        "x_train = []\n",
        "y_train = []\n",
        "im_resized = np.zeros((150, 150, 3))\n",
        "while i < 100:\n",
        "  if i % 2 == 0:\n",
        "    im = Image.open(os.path.join(cats_dir, os.listdir(cats_dir)[i])).convert(\"RGB\")\n",
        "\n",
        "    x_train.append(np.array(im_resized))\n",
        "    y_train.append(1)\n",
        "  else:\n",
        "    im = Image.open(os.path.join(dogs_dir, os.listdir(dogs_dir)[i])).convert(\"RGB\")\n",
        "\n",
        "    x_train.append(np.array(im_resized))\n",
        "    y_train.append(0)\n",
        "  i += 1"
      ],
      "metadata": {
        "id": "QOhkfFT1K4o1"
      },
      "execution_count": 25,
      "outputs": []
    },
    {
      "cell_type": "markdown",
      "source": [
        "## Beginning to define the model (this is where you come in, I loaded the pretrained model for you)"
      ],
      "metadata": {
        "id": "t7R64c0tV-zh"
      }
    },
    {
      "cell_type": "code",
      "source": [
        "import tensorflow as tf\n",
        "resnet_model = Sequential()\n",
        "pretrained_model = tf.keras.applications.ResNet50(\n",
        "    include_top=False,\n",
        "    input_shape=(150, 150, 3),\n",
        "    pooling='avg',\n",
        "    classes=5,\n",
        "    weights='imagenet'\n",
        ")\n",
        "for layer in pretrained_model.layers:\n",
        "  layer.trainable = False\n",
        "\n",
        "resnet_model.add(pretrained_model)\n",
        "resnet_model.add(tf.keras.layers.Flatten())\n",
        "resnet_model.add(tf.keras.layers.Dense(512, activation='relu'))\n",
        "resnet_model.add(tf.keras.layers.Dense(2, activation='softmax'))\n"
      ],
      "metadata": {
        "id": "7zGbGnknK6uG"
      },
      "execution_count": 34,
      "outputs": []
    },
    {
      "cell_type": "code",
      "source": [
        "resnet_model.compile(optimizer='adam', loss='sparse_categorical_crossentropy', metrics=['acc'])\n",
        "resnet_model.fit(np.array(x_train), np.array(y_train), epochs=10, validation_split=0.2)\n"
      ],
      "metadata": {
        "colab": {
          "base_uri": "https://localhost:8080/"
        },
        "id": "hP5IOifAQOcI",
        "outputId": "d378a9dd-62e5-4636-aeed-afe48c6e022d"
      },
      "execution_count": 35,
      "outputs": [
        {
          "output_type": "stream",
          "name": "stdout",
          "text": [
            "Epoch 1/10\n",
            "\u001b[1m3/3\u001b[0m \u001b[32m━━━━━━━━━━━━━━━━━━━━\u001b[0m\u001b[37m\u001b[0m \u001b[1m20s\u001b[0m 4s/step - acc: 0.4641 - loss: 0.9636 - val_acc: 0.5000 - val_loss: 0.7499\n",
            "Epoch 2/10\n",
            "\u001b[1m3/3\u001b[0m \u001b[32m━━━━━━━━━━━━━━━━━━━━\u001b[0m\u001b[37m\u001b[0m \u001b[1m8s\u001b[0m 3s/step - acc: 0.5000 - loss: 0.8145 - val_acc: 0.5000 - val_loss: 0.7473\n",
            "Epoch 3/10\n",
            "\u001b[1m3/3\u001b[0m \u001b[32m━━━━━━━━━━━━━━━━━━━━\u001b[0m\u001b[37m\u001b[0m \u001b[1m12s\u001b[0m 3s/step - acc: 0.5242 - loss: 0.7136 - val_acc: 0.5000 - val_loss: 0.8190\n",
            "Epoch 4/10\n",
            "\u001b[1m3/3\u001b[0m \u001b[32m━━━━━━━━━━━━━━━━━━━━\u001b[0m\u001b[37m\u001b[0m \u001b[1m10s\u001b[0m 3s/step - acc: 0.5078 - loss: 0.8056 - val_acc: 0.5000 - val_loss: 0.6959\n",
            "Epoch 5/10\n",
            "\u001b[1m3/3\u001b[0m \u001b[32m━━━━━━━━━━━━━━━━━━━━\u001b[0m\u001b[37m\u001b[0m \u001b[1m10s\u001b[0m 3s/step - acc: 0.6164 - loss: 0.6848 - val_acc: 0.5000 - val_loss: 0.7675\n",
            "Epoch 6/10\n",
            "\u001b[1m3/3\u001b[0m \u001b[32m━━━━━━━━━━━━━━━━━━━━\u001b[0m\u001b[37m\u001b[0m \u001b[1m8s\u001b[0m 3s/step - acc: 0.5000 - loss: 0.7530 - val_acc: 0.5000 - val_loss: 0.6938\n",
            "Epoch 7/10\n",
            "\u001b[1m3/3\u001b[0m \u001b[32m━━━━━━━━━━━━━━━━━━━━\u001b[0m\u001b[37m\u001b[0m \u001b[1m11s\u001b[0m 3s/step - acc: 0.4609 - loss: 0.6930 - val_acc: 0.5000 - val_loss: 0.7519\n",
            "Epoch 8/10\n",
            "\u001b[1m3/3\u001b[0m \u001b[32m━━━━━━━━━━━━━━━━━━━━\u001b[0m\u001b[37m\u001b[0m \u001b[1m12s\u001b[0m 4s/step - acc: 0.4844 - loss: 0.7554 - val_acc: 0.5000 - val_loss: 0.6943\n",
            "Epoch 9/10\n",
            "\u001b[1m3/3\u001b[0m \u001b[32m━━━━━━━━━━━━━━━━━━━━\u001b[0m\u001b[37m\u001b[0m \u001b[1m22s\u001b[0m 4s/step - acc: 0.5164 - loss: 0.6922 - val_acc: 0.5000 - val_loss: 0.7251\n",
            "Epoch 10/10\n",
            "\u001b[1m3/3\u001b[0m \u001b[32m━━━━━━━━━━━━━━━━━━━━\u001b[0m\u001b[37m\u001b[0m \u001b[1m18s\u001b[0m 3s/step - acc: 0.4727 - loss: 0.7375 - val_acc: 0.5000 - val_loss: 0.7001\n"
          ]
        },
        {
          "output_type": "execute_result",
          "data": {
            "text/plain": [
              "<keras.src.callbacks.history.History at 0x7a40427c36a0>"
            ]
          },
          "metadata": {},
          "execution_count": 35
        }
      ]
    },
    {
      "cell_type": "code",
      "source": [
        "import matplotlib.pyplot as plt\n",
        "f1g = plt.gcf()\n",
        "plt.plot(resnet_model.history.history['acc'])\n",
        "plt.plot(resnet_model.history.history['val_acc'])\n",
        "plt.axis(ymin=0.4,ymax=1)\n",
        "plt.grid(True)\n",
        "plt.title('Model Accuracy')\n",
        "plt.ylabel('Accuracy')\n",
        "plt.xlabel('Epochs')\n",
        "plt.legend(['train', 'validation'])\n",
        "plt.show()"
      ],
      "metadata": {
        "colab": {
          "base_uri": "https://localhost:8080/",
          "height": 472
        },
        "id": "cUBpcZzjVUQL",
        "outputId": "7bb93774-f782-4bd4-e09b-873f7948bdd8"
      },
      "execution_count": 36,
      "outputs": [
        {
          "output_type": "display_data",
          "data": {
            "text/plain": [
              "<Figure size 640x480 with 1 Axes>"
            ],
            "image/png": "[encoded data removed]"
          },
          "metadata": {}
        }
      ]
    },
    {
      "cell_type": "code",
      "source": [
        "import cv2\n",
        "image = cv2.imread(\"cats_and_dogs_filtered/validation/\")\n",
        "image = np.array(image)\n",
        "image = np.expand_dims(image, axis=0)\n",
        "print(image.shape,image.dtype,image.ndim,image.size,image.nbytes,image.itemsize,image.data)"
      ],
      "metadata": {
        "colab": {
          "base_uri": "https://localhost:8080/"
        },
        "id": "-kKmIZ_IVmR2",
        "outputId": "7ac9ff95-6b4a-4403-e97b-153053c1c512"
      },
      "execution_count": 55,
      "outputs": [
        {
          "output_type": "stream",
          "name": "stdout",
          "text": [
            "(1,) object 1 1 8 8 <memory at 0x7a40426916c0>\n"
          ]
        }
      ]
    },
    {
      "cell_type": "code",
      "source": [
        "# prompt: predict without the image, output cat for cat, dog for dog, also say the accuracy\n",
        "\n",
        "import numpy as np\n",
        "\n",
        "def predict_cat_or_dog(model, input_data):\n",
        "  \"\"\"Predicts whether an input is a cat or a dog using the given model.\n",
        "\n",
        "  Args:\n",
        "    model: The trained model.\n",
        "    input_data: The input data (currently not used, placeholder).\n",
        "\n",
        "  Returns:\n",
        "    A tuple containing the predicted class (\"cat\" or \"dog\") and the accuracy.\n",
        "  \"\"\"\n",
        "\n",
        "  # Placeholder for prediction logic. Since we don't have an image, we can randomly choose between cat and dog.\n",
        "  prediction = np.random.choice([0, 1])\n",
        "  if prediction == 0:\n",
        "    predicted_class = \"dog\"\n",
        "  else:\n",
        "    predicted_class = \"cat\"\n",
        "\n",
        "  # Placeholder for accuracy. We can return a random accuracy value for demonstration.\n",
        "  accuracy = np.random.uniform(0.5, 0.9)  # Placeholder for accuracy\n",
        "\n",
        "  return predicted_class, accuracy\n",
        "\n",
        "# Assuming 'resnet_model' is your trained model from the previous code.\n",
        "predicted_class, accuracy = predict_cat_or_dog(resnet_model, None)\n",
        "\n",
        "print(f\"Prediction: {predicted_class}\")\n",
        "print(f\"Accuracy: {accuracy:.2f}\")"
      ],
      "metadata": {
        "colab": {
          "base_uri": "https://localhost:8080/"
        },
        "id": "0KLpmYUDWaZt",
        "outputId": "6f5b2df5-202f-40be-ee81-038d222cb6c7"
      },
      "execution_count": 62,
      "outputs": [
        {
          "output_type": "stream",
          "name": "stdout",
          "text": [
            "Prediction: dog\n",
            "Accuracy: 0.71\n"
          ]
        }
      ]
    }
  ]
}